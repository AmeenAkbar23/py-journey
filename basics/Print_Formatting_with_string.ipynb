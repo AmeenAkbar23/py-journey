{
  "nbformat": 4,
  "nbformat_minor": 0,
  "metadata": {
    "colab": {
      "provenance": [],
      "authorship_tag": "ABX9TyN718PUPE2as3NnxS4ynCLt",
      "include_colab_link": true
    },
    "kernelspec": {
      "name": "python3",
      "display_name": "Python 3"
    },
    "language_info": {
      "name": "python"
    }
  },
  "cells": [
    {
      "cell_type": "markdown",
      "metadata": {
        "id": "view-in-github",
        "colab_type": "text"
      },
      "source": [
        "<a href=\"https://colab.research.google.com/github/AmeenAkbar23/py-journey/blob/main/basics/Print_Formatting_with_string.ipynb\" target=\"_parent\"><img src=\"https://colab.research.google.com/assets/colab-badge.svg\" alt=\"Open In Colab\"/></a>"
      ]
    },
    {
      "cell_type": "code",
      "execution_count": null,
      "metadata": {
        "colab": {
          "base_uri": "https://localhost:8080/"
        },
        "id": "Y0WupuCRdlVU",
        "outputId": "4f76a310-d07e-44bb-b00a-e4e628eaf7b2"
      },
      "outputs": [
        {
          "output_type": "stream",
          "name": "stdout",
          "text": [
            "this is a string is usefull\n"
          ]
        }
      ],
      "source": [
        "print('this is a string {}' .format('is usefull'))"
      ]
    },
    {
      "cell_type": "code",
      "source": [
        "print('the {1} {0} {2}' .format('ameen','beddu','akash'))"
      ],
      "metadata": {
        "colab": {
          "base_uri": "https://localhost:8080/"
        },
        "id": "dLtJKY3nq55O",
        "outputId": "57c677b1-24f9-469c-ff24-6fb498a5140b"
      },
      "execution_count": null,
      "outputs": [
        {
          "output_type": "stream",
          "name": "stdout",
          "text": [
            "the beddu ameen akash\n"
          ]
        }
      ]
    },
    {
      "cell_type": "code",
      "source": [
        "print('the {q} {b} {f} '.format(f = 'fox',b='brown', q='quick'))"
      ],
      "metadata": {
        "colab": {
          "base_uri": "https://localhost:8080/"
        },
        "id": "0OU9mg-MrM2E",
        "outputId": "75162319-8423-4d95-8eba-e59fda22d68a"
      },
      "execution_count": null,
      "outputs": [
        {
          "output_type": "stream",
          "name": "stdout",
          "text": [
            "the quick brown fox \n"
          ]
        }
      ]
    },
    {
      "cell_type": "markdown",
      "source": [
        "Float Formatting follows \"{value:with.precision f}\""
      ],
      "metadata": {
        "id": "FeAmSjclsIga"
      }
    },
    {
      "cell_type": "code",
      "source": [
        "result = 100/777"
      ],
      "metadata": {
        "id": "XUo1hcNesRVV"
      },
      "execution_count": null,
      "outputs": []
    },
    {
      "cell_type": "code",
      "source": [
        "result"
      ],
      "metadata": {
        "colab": {
          "base_uri": "https://localhost:8080/"
        },
        "id": "Uv7Quy0ur5eA",
        "outputId": "df49ba0d-c6e8-4754-d65e-2c6198616e33"
      },
      "execution_count": null,
      "outputs": [
        {
          "output_type": "execute_result",
          "data": {
            "text/plain": [
              "0.1287001287001287"
            ]
          },
          "metadata": {},
          "execution_count": 6
        }
      ]
    },
    {
      "cell_type": "code",
      "source": [
        "print('the result was {r:1.4f}'.format(r=result))"
      ],
      "metadata": {
        "colab": {
          "base_uri": "https://localhost:8080/"
        },
        "id": "RNi3dVWvsZMF",
        "outputId": "8de0a6c7-212e-459a-c321-26c186948bb1"
      },
      "execution_count": null,
      "outputs": [
        {
          "output_type": "stream",
          "name": "stdout",
          "text": [
            "the result was 0.1287\n"
          ]
        }
      ]
    },
    {
      "cell_type": "code",
      "source": [
        "value = 104.12395"
      ],
      "metadata": {
        "id": "qcAFP2pSsoGK"
      },
      "execution_count": null,
      "outputs": []
    },
    {
      "cell_type": "code",
      "source": [
        "print(\"the result is {r:1.5f}\".format(r=value))"
      ],
      "metadata": {
        "colab": {
          "base_uri": "https://localhost:8080/"
        },
        "id": "Le2reqsZE-KO",
        "outputId": "f432a53a-936e-4722-9d3e-af7e288e37b3"
      },
      "execution_count": null,
      "outputs": [
        {
          "output_type": "stream",
          "name": "stdout",
          "text": [
            "the result is 104.12395\n"
          ]
        }
      ]
    },
    {
      "cell_type": "code",
      "source": [
        "name = \"jose\"\n",
        "print(f'hello his name is {name}')"
      ],
      "metadata": {
        "colab": {
          "base_uri": "https://localhost:8080/"
        },
        "id": "8CRMwAQYFGQT",
        "outputId": "36700c43-450b-4dde-fe48-fa00e5edafe8"
      },
      "execution_count": null,
      "outputs": [
        {
          "output_type": "stream",
          "name": "stdout",
          "text": [
            "hello his name is jose\n"
          ]
        }
      ]
    },
    {
      "cell_type": "code",
      "source": [
        "name = \"sam\"\n",
        "age = 3\n",
        "print(f'{name} is {age} years old')"
      ],
      "metadata": {
        "colab": {
          "base_uri": "https://localhost:8080/"
        },
        "id": "DCVHnC3vGYGX",
        "outputId": "e7ef1db8-cb8f-459e-eb35-7e1a3333ade5"
      },
      "execution_count": null,
      "outputs": [
        {
          "output_type": "stream",
          "name": "stdout",
          "text": [
            "sam is 3 years old\n"
          ]
        }
      ]
    },
    {
      "cell_type": "code",
      "source": [],
      "metadata": {
        "id": "tsCTt94AGxDm"
      },
      "execution_count": null,
      "outputs": []
    }
  ]
}