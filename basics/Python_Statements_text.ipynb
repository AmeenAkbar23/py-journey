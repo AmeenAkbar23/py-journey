{
  "nbformat": 4,
  "nbformat_minor": 0,
  "metadata": {
    "colab": {
      "provenance": [],
      "authorship_tag": "ABX9TyO67SOe1DwZAgQ18409y9jO",
      "include_colab_link": true
    },
    "kernelspec": {
      "name": "python3",
      "display_name": "Python 3"
    },
    "language_info": {
      "name": "python"
    }
  },
  "cells": [
    {
      "cell_type": "markdown",
      "metadata": {
        "id": "view-in-github",
        "colab_type": "text"
      },
      "source": [
        "<a href=\"https://colab.research.google.com/github/AmeenAkbar23/py-journey/blob/main/basics/Python_Statements_text.ipynb\" target=\"_parent\"><img src=\"https://colab.research.google.com/assets/colab-badge.svg\" alt=\"Open In Colab\"/></a>"
      ]
    },
    {
      "cell_type": "markdown",
      "source": [
        "**Use for, .split(), and if to create a Statement that will print out words that start with 's':**"
      ],
      "metadata": {
        "id": "dbyPVDWCSeKS"
      }
    },
    {
      "cell_type": "code",
      "execution_count": null,
      "metadata": {
        "colab": {
          "base_uri": "https://localhost:8080/"
        },
        "id": "CiUj8HCUSTsW",
        "outputId": "6d875489-5b71-4aaf-974f-056995386373"
      },
      "outputs": [
        {
          "output_type": "stream",
          "name": "stdout",
          "text": [
            "start\n",
            "s\n",
            "sentence\n"
          ]
        }
      ],
      "source": [
        "st = 'Print only the words that start with s in this sentence'\n",
        "\n",
        "for word in st.split():\n",
        "  if word[0].lower()=='s':\n",
        "    print(word)"
      ]
    },
    {
      "cell_type": "markdown",
      "source": [
        "**Use range() to print all the even numbers from 0 to 10.** **bold text**"
      ],
      "metadata": {
        "id": "4I3o9qvlS12q"
      }
    },
    {
      "cell_type": "code",
      "source": [
        "for num in range(0,11):\n",
        "  if num%2==0:\n",
        "    print(num)"
      ],
      "metadata": {
        "colab": {
          "base_uri": "https://localhost:8080/"
        },
        "id": "uW9m8qelSvDO",
        "outputId": "ecc0d73b-1c86-4538-ceaa-8b11be0a5517"
      },
      "execution_count": null,
      "outputs": [
        {
          "output_type": "stream",
          "name": "stdout",
          "text": [
            "0\n",
            "2\n",
            "4\n",
            "6\n",
            "8\n",
            "10\n"
          ]
        }
      ]
    },
    {
      "cell_type": "markdown",
      "source": [
        "**Use a List Comprehension to create a list of all numbers between 1 and 50 that are divisible by 3.**"
      ],
      "metadata": {
        "id": "F6shce-TTkkg"
      }
    },
    {
      "cell_type": "code",
      "source": [
        "mylist = [x for x in range(0,51) if x % 3 == 0]\n",
        "print(mylist)"
      ],
      "metadata": {
        "colab": {
          "base_uri": "https://localhost:8080/"
        },
        "id": "O4o0PVmETH3r",
        "outputId": "bf82f7bb-717d-4177-8e06-d036a610201e"
      },
      "execution_count": null,
      "outputs": [
        {
          "output_type": "stream",
          "name": "stdout",
          "text": [
            "[0, 3, 6, 9, 12, 15, 18, 21, 24, 27, 30, 33, 36, 39, 42, 45, 48]\n"
          ]
        }
      ]
    },
    {
      "cell_type": "markdown",
      "source": [
        "**Go through the string below and if the length of a word is even print \"even!\"**"
      ],
      "metadata": {
        "id": "yKq6XNNmVpqW"
      }
    },
    {
      "cell_type": "code",
      "source": [
        "st  = 'Go through the string below and if the length of a word is even print even!'\n",
        "\n",
        "for word in st.split():\n",
        "  if len(word) % 2 == 0:\n",
        "    print(f'{word} --> even!')"
      ],
      "metadata": {
        "colab": {
          "base_uri": "https://localhost:8080/"
        },
        "id": "aKFH3KlsUPuW",
        "outputId": "0bfc9fcc-ad79-467a-fcd1-bbbbac4f5aec"
      },
      "execution_count": null,
      "outputs": [
        {
          "output_type": "stream",
          "name": "stdout",
          "text": [
            "Go --> even!\n",
            "string --> even!\n",
            "if --> even!\n",
            "length --> even!\n",
            "of --> even!\n",
            "word --> even!\n",
            "is --> even!\n",
            "even --> even!\n"
          ]
        }
      ]
    },
    {
      "cell_type": "markdown",
      "source": [
        "**Write a program that prints the integers from 1 to 100. But for multiples of three print \"Fizz\" instead of the number, and for the multiples of five print \"Buzz\". For numbers which are multiples of both three and five print \"FizzBuzz\"**"
      ],
      "metadata": {
        "id": "xBxNMNB-VvSd"
      }
    },
    {
      "cell_type": "code",
      "source": [
        "for num in range(1,100):\n",
        "  if num % 3 == 0 and i % 5 ==0:\n",
        "    print('Fizz Buzz')\n",
        "  elif num % 3 == 0:\n",
        "    print('fizz')\n",
        "  elif num % 5 == 0:\n",
        "    print('buzz')\n",
        "  else:\n",
        "    print(num)"
      ],
      "metadata": {
        "colab": {
          "base_uri": "https://localhost:8080/"
        },
        "id": "79q7kyEjVI9n",
        "outputId": "6813fda4-a2c6-4363-ba3b-388318afa11b"
      },
      "execution_count": null,
      "outputs": [
        {
          "output_type": "stream",
          "name": "stdout",
          "text": [
            "1\n",
            "2\n",
            "fizz\n",
            "4\n",
            "buzz\n",
            "fizz\n",
            "7\n",
            "8\n",
            "fizz\n",
            "buzz\n",
            "11\n",
            "fizz\n",
            "13\n",
            "14\n",
            "fizz\n",
            "16\n",
            "17\n",
            "fizz\n",
            "19\n",
            "buzz\n",
            "fizz\n",
            "22\n",
            "23\n",
            "fizz\n",
            "buzz\n",
            "26\n",
            "fizz\n",
            "28\n",
            "29\n",
            "fizz\n",
            "31\n",
            "32\n",
            "fizz\n",
            "34\n",
            "buzz\n",
            "fizz\n",
            "37\n",
            "38\n",
            "fizz\n",
            "buzz\n",
            "41\n",
            "fizz\n",
            "43\n",
            "44\n",
            "fizz\n",
            "46\n",
            "47\n",
            "fizz\n",
            "49\n",
            "buzz\n",
            "fizz\n",
            "52\n",
            "53\n",
            "fizz\n",
            "buzz\n",
            "56\n",
            "fizz\n",
            "58\n",
            "59\n",
            "fizz\n",
            "61\n",
            "62\n",
            "fizz\n",
            "64\n",
            "buzz\n",
            "fizz\n",
            "67\n",
            "68\n",
            "fizz\n",
            "buzz\n",
            "71\n",
            "fizz\n",
            "73\n",
            "74\n",
            "fizz\n",
            "76\n",
            "77\n",
            "fizz\n",
            "79\n",
            "buzz\n",
            "fizz\n",
            "82\n",
            "83\n",
            "fizz\n",
            "buzz\n",
            "86\n",
            "fizz\n",
            "88\n",
            "89\n",
            "fizz\n",
            "91\n",
            "92\n",
            "fizz\n",
            "94\n",
            "buzz\n",
            "fizz\n",
            "97\n",
            "98\n",
            "fizz\n"
          ]
        }
      ]
    },
    {
      "cell_type": "markdown",
      "source": [
        "**Use List Comprehension to create a list of the first letters of every word in the string below:**"
      ],
      "metadata": {
        "id": "VwyAscgkWxqr"
      }
    },
    {
      "cell_type": "code",
      "source": [
        "st = 'Use List Comprehension to create a list of the first letters of every word in the string below:'\n",
        "f = [word[0] for word in st.split()]\n",
        "\n",
        "print(f)"
      ],
      "metadata": {
        "colab": {
          "base_uri": "https://localhost:8080/"
        },
        "id": "zMQ2sopCWXY7",
        "outputId": "a6dfdb53-cd7f-49a0-e163-f5f23751148d"
      },
      "execution_count": null,
      "outputs": [
        {
          "output_type": "stream",
          "name": "stdout",
          "text": [
            "['U', 'L', 'C', 't', 'c', 'a', 'l', 'o', 't', 'f', 'l', 'o', 'e', 'w', 'i', 't', 's', 'b']\n"
          ]
        }
      ]
    },
    {
      "cell_type": "code",
      "source": [],
      "metadata": {
        "id": "IyRmUyMZXI9N"
      },
      "execution_count": null,
      "outputs": []
    }
  ]
}