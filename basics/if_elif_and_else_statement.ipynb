{
  "nbformat": 4,
  "nbformat_minor": 0,
  "metadata": {
    "colab": {
      "provenance": [],
      "authorship_tag": "ABX9TyP7pirf31OLkfM5YbuDTYXZ",
      "include_colab_link": true
    },
    "kernelspec": {
      "name": "python3",
      "display_name": "Python 3"
    },
    "language_info": {
      "name": "python"
    }
  },
  "cells": [
    {
      "cell_type": "markdown",
      "metadata": {
        "id": "view-in-github",
        "colab_type": "text"
      },
      "source": [
        "<a href=\"https://colab.research.google.com/github/AmeenAkbar23/py-journey/blob/main/basics/if_elif_and_else_statement.ipynb\" target=\"_parent\"><img src=\"https://colab.research.google.com/assets/colab-badge.svg\" alt=\"Open In Colab\"/></a>"
      ]
    },
    {
      "cell_type": "code",
      "execution_count": null,
      "metadata": {
        "colab": {
          "base_uri": "https://localhost:8080/"
        },
        "id": "gYxIQ-14Sjdc",
        "outputId": "3e950e01-8662-4a99-b3a1-0eeef35b1b37"
      },
      "outputs": [
        {
          "output_type": "stream",
          "name": "stdout",
          "text": [
            "Its True\n"
          ]
        }
      ],
      "source": [
        "if True:\n",
        "  print(\"Its True\")"
      ]
    },
    {
      "cell_type": "code",
      "source": [
        "hungry = False\n",
        "\n",
        "if hungry:\n",
        "  print(\"Feed\")\n",
        "else:\n",
        "  print(\"am not hungry\")"
      ],
      "metadata": {
        "colab": {
          "base_uri": "https://localhost:8080/"
        },
        "id": "ARTSvcjYT4Xz",
        "outputId": "a4186a6b-3ba1-4144-cc2c-c193f9731f2c"
      },
      "execution_count": null,
      "outputs": [
        {
          "output_type": "stream",
          "name": "stdout",
          "text": [
            "am not hungry\n"
          ]
        }
      ]
    },
    {
      "cell_type": "code",
      "source": [
        "loc = 'bank'\n",
        "\n",
        "if loc =='Auto Shop':\n",
        "  print(\"Cars are cool\")\n",
        "\n",
        "elif loc == 'bank':\n",
        "  print('Money is cool')\n",
        "\n",
        "else:\n",
        "  print(\"Idk\")"
      ],
      "metadata": {
        "colab": {
          "base_uri": "https://localhost:8080/"
        },
        "id": "q7N9zHZcUFFg",
        "outputId": "89a0c576-40b8-4b72-9c20-01ec42e0eb4f"
      },
      "execution_count": null,
      "outputs": [
        {
          "output_type": "stream",
          "name": "stdout",
          "text": [
            "Money is cool\n"
          ]
        }
      ]
    },
    {
      "cell_type": "code",
      "source": [
        "name = 'sam'\n",
        "\n",
        "if name =='frankie':\n",
        "  print('hello frankie')\n",
        "elif name == 'sammy':\n",
        "  print('hello Sammy')\n",
        "else:\n",
        "  print('what is your name')"
      ],
      "metadata": {
        "colab": {
          "base_uri": "https://localhost:8080/"
        },
        "id": "HW3iT5zyU1I5",
        "outputId": "c36a86c5-b6c1-47c1-b4f9-3b108436e75b"
      },
      "execution_count": null,
      "outputs": [
        {
          "output_type": "stream",
          "name": "stdout",
          "text": [
            "what is your name\n"
          ]
        }
      ]
    },
    {
      "cell_type": "code",
      "source": [],
      "metadata": {
        "id": "OxFarUOZVK5w"
      },
      "execution_count": null,
      "outputs": []
    }
  ]
}