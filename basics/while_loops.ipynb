{
  "nbformat": 4,
  "nbformat_minor": 0,
  "metadata": {
    "colab": {
      "provenance": [],
      "authorship_tag": "ABX9TyN1cNV21IzAUqPYmoU3jaYY",
      "include_colab_link": true
    },
    "kernelspec": {
      "name": "python3",
      "display_name": "Python 3"
    },
    "language_info": {
      "name": "python"
    }
  },
  "cells": [
    {
      "cell_type": "markdown",
      "metadata": {
        "id": "view-in-github",
        "colab_type": "text"
      },
      "source": [
        "<a href=\"https://colab.research.google.com/github/AmeenAkbar23/py-journey/blob/main/basics/while_loops.ipynb\" target=\"_parent\"><img src=\"https://colab.research.google.com/assets/colab-badge.svg\" alt=\"Open In Colab\"/></a>"
      ]
    },
    {
      "cell_type": "markdown",
      "source": [
        "**Syntax of a while loop**\n",
        "\n",
        "    while some_boolean_condition:\n",
        "      #do something\n",
        "      "
      ],
      "metadata": {
        "id": "IjU__-EOixF9"
      }
    },
    {
      "cell_type": "code",
      "execution_count": null,
      "metadata": {
        "colab": {
          "base_uri": "https://localhost:8080/"
        },
        "id": "kQHGziD1id3m",
        "outputId": "339530c8-22b3-4263-865d-47ff3a3717af"
      },
      "outputs": [
        {
          "output_type": "stream",
          "name": "stdout",
          "text": [
            "the current value of x is 40\n",
            "the current value of x is 41\n",
            "the current value of x is 42\n",
            "the current value of x is 43\n",
            "the current value of x is 44\n",
            "the current value of x is 45\n",
            "the current value of x is 46\n",
            "the current value of x is 47\n",
            "the current value of x is 48\n",
            "the current value of x is 49\n",
            "x is not less than 5\n"
          ]
        }
      ],
      "source": [
        "x = 40\n",
        "\n",
        "while x < 50:\n",
        "  print(f'the current value of x is {x}')\n",
        "  x +=1 # x = x+1\n",
        "\n",
        "else:\n",
        "  print('x is not less than 5')"
      ]
    },
    {
      "cell_type": "markdown",
      "source": [
        "# Break , Continue , Pass"
      ],
      "metadata": {
        "id": "NAczvkCylxZe"
      }
    },
    {
      "cell_type": "code",
      "source": [
        "x = [1,2,3]\n",
        "\n",
        "for item in x:\n",
        "  pass\n",
        "\n",
        "print('end of the day ')"
      ],
      "metadata": {
        "id": "gbzQ4-2-j2X4",
        "colab": {
          "base_uri": "https://localhost:8080/"
        },
        "outputId": "c4fc6fad-d570-49f1-b3f5-0b13f1fb87bc"
      },
      "execution_count": null,
      "outputs": [
        {
          "output_type": "stream",
          "name": "stdout",
          "text": [
            "end of the day \n"
          ]
        }
      ]
    },
    {
      "cell_type": "code",
      "source": [
        "mystring = 'sammy'\n"
      ],
      "metadata": {
        "id": "m_5HFSRemoN-"
      },
      "execution_count": null,
      "outputs": []
    },
    {
      "cell_type": "code",
      "source": [
        "for letter in mystring:\n",
        "  if letter == 'a':\n",
        "    continue\n",
        "  print(letter)"
      ],
      "metadata": {
        "colab": {
          "base_uri": "https://localhost:8080/"
        },
        "id": "HRD3tS3smuSq",
        "outputId": "3b97a845-a5ae-4575-c548-f2c9e5937030"
      },
      "execution_count": null,
      "outputs": [
        {
          "output_type": "stream",
          "name": "stdout",
          "text": [
            "s\n",
            "m\n",
            "m\n",
            "y\n"
          ]
        }
      ]
    },
    {
      "cell_type": "code",
      "source": [
        "s = 'ameee'\n",
        "\n",
        "for letter in s:\n",
        "  if letter == 'e':\n",
        "    break\n",
        "  print(letter)"
      ],
      "metadata": {
        "colab": {
          "base_uri": "https://localhost:8080/"
        },
        "id": "WJXX-CGWoQrX",
        "outputId": "46ae33a8-1aa1-4720-9dbe-5dcf7109dcca"
      },
      "execution_count": null,
      "outputs": [
        {
          "output_type": "stream",
          "name": "stdout",
          "text": [
            "a\n",
            "m\n"
          ]
        }
      ]
    },
    {
      "cell_type": "code",
      "source": [
        "x = 0\n",
        "\n",
        "while x < 5:\n",
        "  if x == 2:\n",
        "    break\n",
        "  print(x)\n",
        "  x +=1"
      ],
      "metadata": {
        "colab": {
          "base_uri": "https://localhost:8080/"
        },
        "id": "DVkeYYOYpvpt",
        "outputId": "67bb39cb-915e-4d80-f1d4-e50f8226df3f"
      },
      "execution_count": null,
      "outputs": [
        {
          "output_type": "stream",
          "name": "stdout",
          "text": [
            "0\n",
            "1\n"
          ]
        }
      ]
    },
    {
      "cell_type": "code",
      "source": [],
      "metadata": {
        "id": "4VA-CF5uqCUL"
      },
      "execution_count": null,
      "outputs": []
    }
  ]
}