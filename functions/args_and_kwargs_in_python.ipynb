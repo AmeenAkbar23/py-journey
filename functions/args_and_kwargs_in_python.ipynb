{
  "nbformat": 4,
  "nbformat_minor": 0,
  "metadata": {
    "colab": {
      "provenance": [],
      "authorship_tag": "ABX9TyNL6cNto9bL18FydcNU/vLJ",
      "include_colab_link": true
    },
    "kernelspec": {
      "name": "python3",
      "display_name": "Python 3"
    },
    "language_info": {
      "name": "python"
    }
  },
  "cells": [
    {
      "cell_type": "markdown",
      "metadata": {
        "id": "view-in-github",
        "colab_type": "text"
      },
      "source": [
        "<a href=\"https://colab.research.google.com/github/AmeenAkbar23/py-journey/blob/main/functions/args_and_kwargs_in_python.ipynb\" target=\"_parent\"><img src=\"https://colab.research.google.com/assets/colab-badge.svg\" alt=\"Open In Colab\"/></a>"
      ]
    },
    {
      "cell_type": "code",
      "execution_count": 20,
      "metadata": {
        "id": "3PWCG18XK0hy"
      },
      "outputs": [],
      "source": [
        "def myfunc(a,b):\n",
        "  #Return 5% of the sum of a and b\n",
        "  return sum((a,b)) * 0.05"
      ]
    },
    {
      "cell_type": "code",
      "source": [
        "myfunc(40,60)"
      ],
      "metadata": {
        "colab": {
          "base_uri": "https://localhost:8080/"
        },
        "id": "iVjmE2fSLP9O",
        "outputId": "3f79f2ae-e294-41d6-8fe5-73d0f73167be"
      },
      "execution_count": 21,
      "outputs": [
        {
          "output_type": "execute_result",
          "data": {
            "text/plain": [
              "5.0"
            ]
          },
          "metadata": {},
          "execution_count": 21
        }
      ]
    },
    {
      "cell_type": "code",
      "source": [
        "def myfunc(*args):\n",
        "  return sum(args) * 0.05"
      ],
      "metadata": {
        "id": "8-UdzCtkLUyZ"
      },
      "execution_count": 22,
      "outputs": []
    },
    {
      "cell_type": "code",
      "source": [
        "myfunc(40,60,100,1,34)"
      ],
      "metadata": {
        "colab": {
          "base_uri": "https://localhost:8080/"
        },
        "id": "7tdNRq92Ro0C",
        "outputId": "e841bfed-cdc1-46de-829d-dab96dcfb839"
      },
      "execution_count": 23,
      "outputs": [
        {
          "output_type": "execute_result",
          "data": {
            "text/plain": [
              "11.75"
            ]
          },
          "metadata": {},
          "execution_count": 23
        }
      ]
    },
    {
      "cell_type": "code",
      "source": [
        "def myfunc(**kwargs):\n",
        "  if 'fruit' in kwargs:\n",
        "    print('my fruit of choice is {}'.format(kwargs['fruit']))\n",
        "  else:\n",
        "    print('i did not find any fruit here')"
      ],
      "metadata": {
        "id": "UCasQ8gFRsIB"
      },
      "execution_count": 24,
      "outputs": []
    },
    {
      "cell_type": "code",
      "source": [
        "myfunc(fruit ='apple',veggie='lettuce')"
      ],
      "metadata": {
        "colab": {
          "base_uri": "https://localhost:8080/"
        },
        "id": "Z_LFVxDKShpG",
        "outputId": "c711ec79-dba3-4f08-9875-c4a7d6aef6fa"
      },
      "execution_count": 25,
      "outputs": [
        {
          "output_type": "stream",
          "name": "stdout",
          "text": [
            "my fruit of choice is apple\n"
          ]
        }
      ]
    },
    {
      "cell_type": "code",
      "source": [
        "def myfunc(*args,**kwargs):\n",
        "  print('l would like {}{}'.format(args[0],kwargs['food']))"
      ],
      "metadata": {
        "id": "i3wwHzMASsVY"
      },
      "execution_count": 26,
      "outputs": []
    },
    {
      "cell_type": "code",
      "source": [
        "myfunc(10,20,30,fruit='orange',food=' egg',animal='dog')"
      ],
      "metadata": {
        "colab": {
          "base_uri": "https://localhost:8080/"
        },
        "id": "MGKVYIRGTpSA",
        "outputId": "9e80fe7f-3159-4395-888b-2fc177b14f51"
      },
      "execution_count": 28,
      "outputs": [
        {
          "output_type": "stream",
          "name": "stdout",
          "text": [
            "l would like 10 egg\n"
          ]
        }
      ]
    },
    {
      "cell_type": "code",
      "source": [],
      "metadata": {
        "id": "NGJySAYzUM-s"
      },
      "execution_count": null,
      "outputs": []
    }
  ]
}