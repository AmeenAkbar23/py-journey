{
  "nbformat": 4,
  "nbformat_minor": 0,
  "metadata": {
    "colab": {
      "provenance": [],
      "authorship_tag": "ABX9TyNxtBDlsjM18lvTGVXb5H6g",
      "include_colab_link": true
    },
    "kernelspec": {
      "name": "python3",
      "display_name": "Python 3"
    },
    "language_info": {
      "name": "python"
    }
  },
  "cells": [
    {
      "cell_type": "markdown",
      "metadata": {
        "id": "view-in-github",
        "colab_type": "text"
      },
      "source": [
        "<a href=\"https://colab.research.google.com/github/AmeenAkbar23/py-journey/blob/main/functions/function_and_tuple_unpacking.ipynb\" target=\"_parent\"><img src=\"https://colab.research.google.com/assets/colab-badge.svg\" alt=\"Open In Colab\"/></a>"
      ]
    },
    {
      "cell_type": "code",
      "execution_count": null,
      "metadata": {
        "id": "yajDPTZAxdjo"
      },
      "outputs": [],
      "source": [
        "stock_price = [('Appl',200),('Goog',400),('Msft',100)]"
      ]
    },
    {
      "cell_type": "code",
      "source": [
        "for item in stock_price:\n",
        "  print(item)"
      ],
      "metadata": {
        "colab": {
          "base_uri": "https://localhost:8080/"
        },
        "id": "CDzC9DSpx1jH",
        "outputId": "ccf3483c-acc9-4b6e-a590-41fe4e87b904"
      },
      "execution_count": null,
      "outputs": [
        {
          "output_type": "stream",
          "name": "stdout",
          "text": [
            "('Appl', 200)\n",
            "('Goog', 400)\n",
            "('Msft', 100)\n"
          ]
        }
      ]
    },
    {
      "cell_type": "code",
      "source": [
        "for ticker,price in stock_price:\n",
        "  print(price+(0.1*price))"
      ],
      "metadata": {
        "colab": {
          "base_uri": "https://localhost:8080/"
        },
        "id": "x9kMoZD1x9da",
        "outputId": "dcf3eb65-5110-4482-cab2-601e267d6dd0"
      },
      "execution_count": null,
      "outputs": [
        {
          "output_type": "stream",
          "name": "stdout",
          "text": [
            "220.0\n",
            "440.0\n",
            "110.0\n"
          ]
        }
      ]
    },
    {
      "cell_type": "code",
      "source": [
        "work_hours =[('Abby',100),('Billy',400),('Cassie',800)]"
      ],
      "metadata": {
        "id": "u2kG6ik_yF7A"
      },
      "execution_count": null,
      "outputs": []
    },
    {
      "cell_type": "code",
      "source": [
        "def employee_check(work_hours):\n",
        "\n",
        "  current_max = 0\n",
        "  employee_of_month = ''\n",
        "\n",
        "  for employee,hours in work_hours:\n",
        "    if hours > current_max:\n",
        "      current_max = hours\n",
        "      employee_of_month = employee\n",
        "    else:\n",
        "      pass\n",
        "\n",
        "  return(employee_of_month,current_max)"
      ],
      "metadata": {
        "id": "L1y-aVlwzDxt"
      },
      "execution_count": null,
      "outputs": []
    },
    {
      "cell_type": "code",
      "source": [
        "employee_check(work_hours)"
      ],
      "metadata": {
        "colab": {
          "base_uri": "https://localhost:8080/"
        },
        "id": "kAb538PM0bqx",
        "outputId": "e436bd30-41ae-4c7f-cf50-4f239cde1b74"
      },
      "execution_count": null,
      "outputs": [
        {
          "output_type": "execute_result",
          "data": {
            "text/plain": [
              "('Cassie', 800)"
            ]
          },
          "metadata": {},
          "execution_count": 10
        }
      ]
    },
    {
      "cell_type": "code",
      "source": [],
      "metadata": {
        "id": "3MZ2utwf0e9A"
      },
      "execution_count": null,
      "outputs": []
    }
  ]
}