{
  "nbformat": 4,
  "nbformat_minor": 0,
  "metadata": {
    "colab": {
      "provenance": [],
      "authorship_tag": "ABX9TyMtPeEn1wXXAFhO4BnwJZf9",
      "include_colab_link": true
    },
    "kernelspec": {
      "name": "python3",
      "display_name": "Python 3"
    },
    "language_info": {
      "name": "python"
    }
  },
  "cells": [
    {
      "cell_type": "markdown",
      "metadata": {
        "id": "view-in-github",
        "colab_type": "text"
      },
      "source": [
        "<a href=\"https://colab.research.google.com/github/AmeenAkbar23/py-journey/blob/main/functions/nested_statements_and_scope.ipynb\" target=\"_parent\"><img src=\"https://colab.research.google.com/assets/colab-badge.svg\" alt=\"Open In Colab\"/></a>"
      ]
    },
    {
      "cell_type": "code",
      "execution_count": null,
      "metadata": {
        "id": "8GbNg9VyeY-5"
      },
      "outputs": [],
      "source": [
        "x =25\n",
        "def printer():\n",
        "  x =50\n",
        "  return x\n"
      ]
    },
    {
      "cell_type": "code",
      "source": [
        "print(x)"
      ],
      "metadata": {
        "id": "NYEh8GT1erVs",
        "outputId": "f3952c35-42f3-42d9-aa3f-6d25e1c0559d",
        "colab": {
          "base_uri": "https://localhost:8080/"
        }
      },
      "execution_count": null,
      "outputs": [
        {
          "output_type": "stream",
          "name": "stdout",
          "text": [
            "25\n"
          ]
        }
      ]
    },
    {
      "cell_type": "code",
      "source": [
        "#lambda num:num**2"
      ],
      "metadata": {
        "id": "j1B0Afa6etos"
      },
      "execution_count": null,
      "outputs": []
    },
    {
      "cell_type": "code",
      "source": [
        "name = 'THIS IS A GLOABL STRING'\n",
        "\n",
        "def greet():\n",
        "\n",
        "  name = ' amee'\n",
        "\n",
        "  def hello():\n",
        "    print('Hello'+ name)\n",
        "\n",
        "  hello()\n",
        "\n",
        "greet()"
      ],
      "metadata": {
        "colab": {
          "base_uri": "https://localhost:8080/"
        },
        "id": "AfbRbWLSj9cX",
        "outputId": "0da2e195-b7c6-4436-da90-55475d4bdb14"
      },
      "execution_count": null,
      "outputs": [
        {
          "output_type": "stream",
          "name": "stdout",
          "text": [
            "Hello amee\n"
          ]
        }
      ]
    },
    {
      "cell_type": "code",
      "source": [
        "x =50\n",
        "def func(x):\n",
        "  print(f'X is {x}')\n",
        "\n",
        "  #Local Reassigment\n",
        "  x = 200\n",
        "  print(f'I just locally changed x to {x}')"
      ],
      "metadata": {
        "id": "IqHd1NEBkbhL"
      },
      "execution_count": null,
      "outputs": []
    },
    {
      "cell_type": "code",
      "source": [
        "func(x)"
      ],
      "metadata": {
        "colab": {
          "base_uri": "https://localhost:8080/"
        },
        "id": "oJ2PNCKOoXiC",
        "outputId": "71ebb020-23cd-4548-8cb4-64e8216a38f1"
      },
      "execution_count": null,
      "outputs": [
        {
          "output_type": "stream",
          "name": "stdout",
          "text": [
            "X is 50\n",
            "I just locally changed x to 200\n"
          ]
        }
      ]
    },
    {
      "cell_type": "code",
      "source": [],
      "metadata": {
        "id": "siaprEIboZSG"
      },
      "execution_count": null,
      "outputs": []
    },
    {
      "cell_type": "code",
      "source": [],
      "metadata": {
        "id": "J_C9iyemuhXd"
      },
      "execution_count": null,
      "outputs": []
    }
  ]
}